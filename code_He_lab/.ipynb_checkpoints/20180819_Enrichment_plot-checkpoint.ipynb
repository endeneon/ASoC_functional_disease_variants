{
 "cells": [
  {
   "cell_type": "markdown",
   "metadata": {
    "kernel": "SoS"
   },
   "source": [
    "# Plot for enrichment analysis results of `ASCA` and `atac-seq` annotations for schizophrenia"
   ]
  },
  {
   "cell_type": "markdown",
   "metadata": {
    "kernel": "SoS"
   },
   "source": [
    "## Data overview\n",
    "### SCZ GWAS data\n",
    "[PGC2 data source](https://www.med.unc.edu/pgc/results-and-downloads/data-use-agreement-forms/SCZSNP_data_download_agreement/resolveuid/50097b57b5384408857d33cbc52e1acc)\n",
    "- Genome coordination: hg19.\n",
    "- 34,241 cases and 45,604 controls.\n",
    "- 9,075,843 snps; include insertion/deletion; exclude chromosome X."
   ]
  },
  {
   "cell_type": "markdown",
   "metadata": {
    "kernel": "SoS"
   },
   "source": [
    "### Annotations\n",
    "The data include 2 types of annotation: **Glut** and **NPC**.\n",
    "\n",
    "First merge ASCA SNPs with PGC2 to obtain overlapping, then mark SNPs whose FDR less than 0.05 (cutoff) as 1, and the rest as 0.\n",
    "\n",
    "We also use other cutoffs: $10^{-5}, 0.001, 0.01, 0.1$ and $1$.\n",
    "\n",
    "- Glut\n",
    "    - 111,718 SNPs included; \n",
    "    - 102,546 SNPs overlaped with PGC2 SNPs.\n",
    "    \n",
    "\n",
    "- NPC\n",
    "    - 99,402 SNPs included;\n",
    "    - 92,581 SNPs overlaped with PGC2 SNPs.\n",
    "\n",
    "\n",
    "5 neuron cell types:\n",
    "\n",
    "    CN: cortical neurons\n",
    "        249,590 peaks; average width 436 SNPs\n",
    "    DN: dopaminergic neurons\n",
    "        278,092 peaks; average width 630 SNPs\n",
    "    GA: GABAergic neurons\n",
    "        329,787 peaks; average width 450 SNPs\n",
    "    ips: induced pluripotent cells\n",
    "        344,669 peaks; average width 694 SNPs\n",
    "    NSC: neural stem cells\n",
    "        248,686 peaks; average width 396 SNPs"
   ]
  },
  {
   "cell_type": "markdown",
   "metadata": {
    "kernel": "SoS"
   },
   "source": [
    "## Enrichment results summary\n",
    "For atac-seq annotations, $log(OR)$ is positive for all 5 types, and CI does not include 0.\n",
    "\n",
    "- smallest OR (induced pluripotent cells): $exp(1.143) = 3.14$;\n",
    "- larget OR (dopaminergic neurons): $exp(1.596) = 4.93$.\n",
    "    \n",
    "\n",
    "For ASCA variants, if we use $0.05$ as FDR cutoff, SNPs with FDR smaller than cutoff are marked as 1, while the rest marked as 0.\n",
    "\n",
    "- For Glut, OR is $exp(4.684) = 108.20$;\n",
    "- For NPC, OR is $exp(4.252) = 70.25$.\n",
    "\n",
    "\n",
    "For ASCA variants, we also use $10^{-5}, 0.001, 0.01, 0.10, 0.30, 0.50, 1.0$ as FDR cutoffs.\n",
    "\n",
    "- Glut\n",
    "    - logORs are all greater than 3.5 (OR greater than 33), and CIs do not include 0.\n",
    "    - The logORs are very significant even for large cutoffs. To check the results, I listed the facts below for FDR cutoff 1.0:\n",
    "        - There are 102,546 SNPs marked as 1; the absolute z-score for these SNPs is 1.087;\n",
    "        - There are 8,973,297 SNPs marked as 0; the absolute z-score for these SNPs is 0.996.\n",
    "        - The difference between z_score is 0.091, but the numbers of SNPs between the two groups differ largely. It may explain large logOR for all cutoffs.\n",
    " \n",
    "    \n",
    "- NPC\n",
    "    - logORs are all greater 2.3 (OR greater than 11), but CI for FDR cutoff $10^{-5}$ include 0, other CIs do not.\n",
    "    - For FDR cutoff $10^{-5}$:\n",
    "        - There are only 446 SNPs marked as 1; the absolute z-score for these SNPs is 1.129;\n",
    "        - There are 9,075,397 SNPs marked as 0; the absolute z-score for these SNPs is 0.997;\n",
    "        - The difference between these two numbers are so large that the enrichment analysis would not work well, though the difference (0.132) between the two groups is even larger than that of Glut (0.091)."
   ]
  },
  {
   "cell_type": "markdown",
   "metadata": {
    "kernel": "SoS"
   },
   "source": [
    "## Make plot"
   ]
  },
  {
   "cell_type": "code",
   "execution_count": 1,
   "metadata": {
    "kernel": "Python3"
   },
   "outputs": [],
   "source": [
    "import pandas as pd\n",
    "import os, math\n",
    "path = os.path.expanduser(\"~/Documents/GWAS_ATAC\")\n",
    "res = pd.read_table(f\"{path}/pgc2_zscore/pgc2_torus_atac_seq_asca.gz\", sep = \"\\t\", header = 0, compression = \"gzip\")\n",
    "res1 = pd.read_table(f\"{path}/pgc2_zscore/pgc2_torus_general.gz\", sep = \"\\t\", header = 0, compression = \"gzip\")"
   ]
  },
  {
   "cell_type": "code",
   "execution_count": 2,
   "metadata": {
    "kernel": "Python3"
   },
   "outputs": [],
   "source": [
    "res2 = pd.read_table(f\"{path}/pgc2_zscore/eQTL.pgc2.zscore.torus\", header = 0, sep = \"\\s+\", names = [\"anno\", \"beta\", \"CI_low\", \"CI_high\"])"
   ]
  },
  {
   "cell_type": "code",
   "execution_count": 3,
   "metadata": {
    "kernel": "Python3"
   },
   "outputs": [],
   "source": [
    "res1 = res1.iloc[[1,2,4], ]"
   ]
  },
  {
   "cell_type": "code",
   "execution_count": 4,
   "metadata": {
    "kernel": "Python3"
   },
   "outputs": [
    {
     "data": {
      "text/html": [
       "<div>\n",
       "<style scoped>\n",
       "    .dataframe tbody tr th:only-of-type {\n",
       "        vertical-align: middle;\n",
       "    }\n",
       "\n",
       "    .dataframe tbody tr th {\n",
       "        vertical-align: top;\n",
       "    }\n",
       "\n",
       "    .dataframe thead th {\n",
       "        text-align: right;\n",
       "    }\n",
       "</style>\n",
       "<table border=\"1\" class=\"dataframe\">\n",
       "  <thead>\n",
       "    <tr style=\"text-align: right;\">\n",
       "      <th></th>\n",
       "      <th>anno</th>\n",
       "      <th>beta</th>\n",
       "      <th>CI_low</th>\n",
       "      <th>CI_high</th>\n",
       "    </tr>\n",
       "  </thead>\n",
       "  <tbody>\n",
       "    <tr>\n",
       "      <td>1</td>\n",
       "      <td>Conserved_LindbladToh.1</td>\n",
       "      <td>2.098</td>\n",
       "      <td>1.487</td>\n",
       "      <td>2.710</td>\n",
       "    </tr>\n",
       "    <tr>\n",
       "      <td>2</td>\n",
       "      <td>Coding_UCSC.1</td>\n",
       "      <td>2.070</td>\n",
       "      <td>1.350</td>\n",
       "      <td>2.790</td>\n",
       "    </tr>\n",
       "    <tr>\n",
       "      <td>4</td>\n",
       "      <td>Promoter_UCSC.1</td>\n",
       "      <td>1.372</td>\n",
       "      <td>0.787</td>\n",
       "      <td>1.957</td>\n",
       "    </tr>\n",
       "  </tbody>\n",
       "</table>\n",
       "</div>"
      ],
      "text/plain": [
       "                      anno   beta  CI_low  CI_high\n",
       "1  Conserved_LindbladToh.1  2.098   1.487    2.710\n",
       "2            Coding_UCSC.1  2.070   1.350    2.790\n",
       "4          Promoter_UCSC.1  1.372   0.787    1.957"
      ]
     },
     "execution_count": 4,
     "metadata": {},
     "output_type": "execute_result"
    }
   ],
   "source": [
    "res1"
   ]
  },
  {
   "cell_type": "code",
   "execution_count": 5,
   "metadata": {
    "kernel": "Python3"
   },
   "outputs": [
    {
     "data": {
      "text/html": [
       "<div>\n",
       "<style scoped>\n",
       "    .dataframe tbody tr th:only-of-type {\n",
       "        vertical-align: middle;\n",
       "    }\n",
       "\n",
       "    .dataframe tbody tr th {\n",
       "        vertical-align: top;\n",
       "    }\n",
       "\n",
       "    .dataframe thead th {\n",
       "        text-align: right;\n",
       "    }\n",
       "</style>\n",
       "<table border=\"1\" class=\"dataframe\">\n",
       "  <thead>\n",
       "    <tr style=\"text-align: right;\">\n",
       "      <th></th>\n",
       "      <th>anno</th>\n",
       "      <th>beta</th>\n",
       "      <th>CI_low</th>\n",
       "      <th>CI_high</th>\n",
       "    </tr>\n",
       "  </thead>\n",
       "  <tbody>\n",
       "    <tr>\n",
       "      <td>0</td>\n",
       "      <td>eQTL.1</td>\n",
       "      <td>1.357</td>\n",
       "      <td>1.134</td>\n",
       "      <td>1.581</td>\n",
       "    </tr>\n",
       "  </tbody>\n",
       "</table>\n",
       "</div>"
      ],
      "text/plain": [
       "     anno   beta  CI_low  CI_high\n",
       "0  eQTL.1  1.357   1.134    1.581"
      ]
     },
     "execution_count": 5,
     "metadata": {},
     "output_type": "execute_result"
    }
   ],
   "source": [
    "res2"
   ]
  },
  {
   "cell_type": "code",
   "execution_count": 6,
   "metadata": {
    "kernel": "Python3"
   },
   "outputs": [],
   "source": [
    "res[\"beta\"] = [math.log2(math.exp(x)) for x in res[\"beta\"]]\n",
    "res[\"CI_low\"] = [math.log2(math.exp(x)) for x in res[\"CI_low\"]]\n",
    "res[\"CI_high\"] = [math.log2(math.exp(x)) for x in res[\"CI_high\"]]"
   ]
  },
  {
   "cell_type": "code",
   "execution_count": 7,
   "metadata": {
    "kernel": "Python3"
   },
   "outputs": [],
   "source": [
    "res1[\"beta\"] = [math.log2(math.exp(x)) for x in res1[\"beta\"]]\n",
    "res1[\"CI_low\"] = [math.log2(math.exp(x)) for x in res1[\"CI_low\"]]\n",
    "res1[\"CI_high\"] = [math.log2(math.exp(x)) for x in res1[\"CI_high\"]]"
   ]
  },
  {
   "cell_type": "code",
   "execution_count": 8,
   "metadata": {
    "kernel": "Python3"
   },
   "outputs": [],
   "source": [
    "res2[\"beta\"] = [math.log2(math.exp(x)) for x in res2[\"beta\"]]\n",
    "res2[\"CI_low\"] = [math.log2(math.exp(x)) for x in res2[\"CI_low\"]]\n",
    "res2[\"CI_high\"] = [math.log2(math.exp(x)) for x in res2[\"CI_high\"]]"
   ]
  },
  {
   "cell_type": "code",
   "execution_count": 9,
   "metadata": {
    "kernel": "Python3"
   },
   "outputs": [],
   "source": [
    "res = res.append(res1)"
   ]
  },
  {
   "cell_type": "code",
   "execution_count": 10,
   "metadata": {
    "kernel": "Python3"
   },
   "outputs": [],
   "source": [
    "res = res.append(res2)"
   ]
  },
  {
   "cell_type": "code",
   "execution_count": 9,
   "metadata": {
    "kernel": "Python3"
   },
   "outputs": [
    {
     "data": {
      "text/html": [
       "<div>\n",
       "<style scoped>\n",
       "    .dataframe tbody tr th:only-of-type {\n",
       "        vertical-align: middle;\n",
       "    }\n",
       "\n",
       "    .dataframe tbody tr th {\n",
       "        vertical-align: top;\n",
       "    }\n",
       "\n",
       "    .dataframe thead th {\n",
       "        text-align: right;\n",
       "    }\n",
       "</style>\n",
       "<table border=\"1\" class=\"dataframe\">\n",
       "  <thead>\n",
       "    <tr style=\"text-align: right;\">\n",
       "      <th></th>\n",
       "      <th>anno</th>\n",
       "      <th>beta</th>\n",
       "      <th>CI_low</th>\n",
       "      <th>CI_high</th>\n",
       "    </tr>\n",
       "  </thead>\n",
       "  <tbody>\n",
       "    <tr>\n",
       "      <td>0</td>\n",
       "      <td>Glut.1</td>\n",
       "      <td>6.666694</td>\n",
       "      <td>4.532948</td>\n",
       "      <td>8.798997</td>\n",
       "    </tr>\n",
       "    <tr>\n",
       "      <td>1</td>\n",
       "      <td>NPC.1</td>\n",
       "      <td>6.044892</td>\n",
       "      <td>3.123435</td>\n",
       "      <td>8.966350</td>\n",
       "    </tr>\n",
       "    <tr>\n",
       "      <td>2</td>\n",
       "      <td>GA_all_peaks.narrowPeak.cleaned.hg19.merged.1</td>\n",
       "      <td>2.663215</td>\n",
       "      <td>2.080366</td>\n",
       "      <td>3.246064</td>\n",
       "    </tr>\n",
       "    <tr>\n",
       "      <td>3</td>\n",
       "      <td>DN_all_peaks.narrowPeak.cleaned.hg19.merged.1</td>\n",
       "      <td>2.354478</td>\n",
       "      <td>1.703823</td>\n",
       "      <td>3.003691</td>\n",
       "    </tr>\n",
       "    <tr>\n",
       "      <td>4</td>\n",
       "      <td>NSC_all_peaks.narrowPeak.cleaned.hg19.merged.1</td>\n",
       "      <td>1.783171</td>\n",
       "      <td>0.794925</td>\n",
       "      <td>2.771417</td>\n",
       "    </tr>\n",
       "    <tr>\n",
       "      <td>5</td>\n",
       "      <td>CN_all_peaks.narrowPeak.cleaned.hg19.merged.1</td>\n",
       "      <td>1.732677</td>\n",
       "      <td>0.815123</td>\n",
       "      <td>2.648788</td>\n",
       "    </tr>\n",
       "    <tr>\n",
       "      <td>6</td>\n",
       "      <td>ips_all_peaks.narrowPeak.cleaned.hg19.merged.1</td>\n",
       "      <td>1.631688</td>\n",
       "      <td>1.041626</td>\n",
       "      <td>2.223193</td>\n",
       "    </tr>\n",
       "  </tbody>\n",
       "</table>\n",
       "</div>"
      ],
      "text/plain": [
       "                                             anno      beta    CI_low  \\\n",
       "0                                          Glut.1  6.666694  4.532948   \n",
       "1                                           NPC.1  6.044892  3.123435   \n",
       "2   GA_all_peaks.narrowPeak.cleaned.hg19.merged.1  2.663215  2.080366   \n",
       "3   DN_all_peaks.narrowPeak.cleaned.hg19.merged.1  2.354478  1.703823   \n",
       "4  NSC_all_peaks.narrowPeak.cleaned.hg19.merged.1  1.783171  0.794925   \n",
       "5   CN_all_peaks.narrowPeak.cleaned.hg19.merged.1  1.732677  0.815123   \n",
       "6  ips_all_peaks.narrowPeak.cleaned.hg19.merged.1  1.631688  1.041626   \n",
       "\n",
       "    CI_high  \n",
       "0  8.798997  \n",
       "1  8.966350  \n",
       "2  3.246064  \n",
       "3  3.003691  \n",
       "4  2.771417  \n",
       "5  2.648788  \n",
       "6  2.223193  "
      ]
     },
     "execution_count": 9,
     "metadata": {},
     "output_type": "execute_result"
    }
   ],
   "source": [
    "res"
   ]
  },
  {
   "cell_type": "code",
   "execution_count": 12,
   "metadata": {
    "kernel": "Python3"
   },
   "outputs": [],
   "source": [
    "res.to_csv(f\"{path}/pgc2_zscore/pgc2_torus_atac_log2.gz\", compression = \"gzip\", sep = \"\\t\", header = True, index = False)"
   ]
  },
  {
   "cell_type": "code",
   "execution_count": 10,
   "metadata": {
    "kernel": "SoS"
   },
   "outputs": [
    {
     "name": "stdout",
     "output_type": "stream",
     "text": [
      "/data/GIT/atac-gwas"
     ]
    }
   ],
   "source": [
    "%cd /home/min/GIT/atac-gwas"
   ]
  },
  {
   "cell_type": "code",
   "execution_count": 4,
   "metadata": {
    "kernel": "R"
   },
   "outputs": [],
   "source": [
    "library(ggplot2)\n",
    "plot_or = function(dat, title, xlab=\"Odds ratio\", ylab=\"Annotations\") {\n",
    "  p1 <- ggplot(dat, aes(y=anno)) + \n",
    "      geom_point(aes(x=logOR), colour=\"#800000\") + #plot OR\n",
    "      geom_segment(aes(x=lower,xend=upper,yend=annotation), alpha=0.8)\n",
    "  p1 <- p1 + geom_vline(xintercept=0) + theme_bw() + labs(title=title, x=xlab, y=ylab)\n",
    "  p1\n",
    "}"
   ]
  },
  {
   "cell_type": "code",
   "execution_count": null,
   "metadata": {
    "kernel": "R"
   },
   "outputs": [],
   "source": [
    "data = read.table('/home/min/Documents/GWAS_ATAC/pgc2_zscore/pgc2_torus_all_log2.gz', head=T)\n",
    "data$anno = c(\"iN_Glut_ASoC\", \"NPC_ASoC\", \"iN_GABA_OCR\", \"iN_DA_OCR\", \"NPC_OCR\", \"iN_Glut_OCR\", \"iPSC_OCR\", \"Conserved\", \"Coding\", \"Promoter\", \"Brain_eQTL\")\n",
    "colnames(data) = c(\"annotation\", \"logOR\", \"lower\", \"upper\")\n",
    "data$anno <- factor(as.character(data$anno), levels=rev(c(\"iN_Glut_ASoC\", \"NPC_ASoC\", \"iN_GABA_OCR\", \"iN_DA_OCR\", \"NPC_OCR\", \"iN_Glut_OCR\", \"iPSC_OCR\", \"Conserved\", \"Coding\", \"Promoter\", \"Brain_eQTL\")))\n",
    "pdf(\"/home/min/Documents/GWAS_ATAC/SCZ_plot/pgc2_enrichment_single_large_font_number.pdf\", 4.5, 4)\n",
    "plot_or(data, \"\", xlab = expression(paste(log[2], ' fold enrichment of SZ variants')), ylab = \"Functional annotations\")\n",
    "# plot_or(data, xlab = expression('hi'[5]*'there'[6]^8*'you'[2]))\n",
    "dev.off()"
   ]
  },
  {
   "cell_type": "code",
   "execution_count": 100,
   "metadata": {
    "kernel": "R"
   },
   "outputs": [
    {
     "data": {
      "text/html": [
       "<div class=\"sos_hint\">> /home/min/Documents/GWAS_ATAC/SCZ_plot/pgc2_enrichment_single_large_font_number.pdf (5.4 KiB):</div>"
      ],
      "text/plain": [
       "\n",
       "> /home/min/Documents/GWAS_ATAC/SCZ_plot/pgc2_enrichment_single_large_font_number.pdf (5.4 KiB):"
      ]
     },
     "metadata": {},
     "output_type": "display_data"
    },
    {
     "data": {
      "image/png": "[encoded data removed]"
     },
     "metadata": {},
     "output_type": "display_data"
    }
   ],
   "source": [
    "%preview /home/min/Documents/GWAS_ATAC/SCZ_plot/pgc2_enrichment_single_large_font_number.pdf -s png"
   ]
  },
  {
   "cell_type": "code",
   "execution_count": null,
   "metadata": {
    "kernel": "R"
   },
   "outputs": [],
   "source": []
  }
 ],
 "metadata": {
  "kernelspec": {
   "display_name": "SoS",
   "language": "sos",
   "name": "sos"
  },
  "language_info": {
   "codemirror_mode": "sos",
   "file_extension": ".sos",
   "mimetype": "text/x-sos",
   "name": "sos",
   "nbconvert_exporter": "sos_notebook.converter.SoS_Exporter",
   "pygments_lexer": "sos"
  },
  "sos": {
   "default_kernel": "SoS",
   "kernels": [
    [
     "Python3",
     "python3",
     "Python3",
     "#FFD91A"
    ],
    [
     "R",
     "ir",
     "R",
     "#DCDCDA"
    ],
    [
     "SoS",
     "sos",
     "",
     ""
    ]
   ]
  }
 },
 "nbformat": 4,
 "nbformat_minor": 4
}
