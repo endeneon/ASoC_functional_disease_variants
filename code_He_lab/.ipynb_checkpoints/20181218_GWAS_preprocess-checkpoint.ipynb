{
 "cells": [
  {
   "cell_type": "markdown",
   "metadata": {
    "kernel": "SoS"
   },
   "source": [
    "# GWAS data preprocess\n",
    "Only has isID, instead of chromosome and genetic positions.\n",
    "\n",
    "Data download [link](http://portals.broadinstitute.org/collaboration/giant/index.php/GIANT_consortium_data_files#GWAS_Anthropometric_2014_Height)\n",
    "\n",
    "Also use this [link](https://stackoverflow.com/questions/20251612/map-snp-ids-to-genome-coordinates) to transfer rsID to chr and pos."
   ]
  },
  {
   "cell_type": "code",
   "execution_count": 1,
   "metadata": {
    "kernel": "SoS"
   },
   "outputs": [],
   "source": [
    "import pandas as pd, numpy as np\n",
    "import re\n",
    "import os\n",
    "from scipy.stats import norm\n",
    "from collections import Counter\n",
    "cwd = os.path.expanduser(\"~/Documents/GWAS_ATAC\")\n",
    "deci = 4"
   ]
  },
  {
   "cell_type": "code",
   "execution_count": 2,
   "metadata": {
    "kernel": "SoS"
   },
   "outputs": [],
   "source": [
    "height1 = pd.read_table(f\"{cwd}/GWAS_data/height/GIANT_HEIGHT_Wood_et_al_2014_publicrelease_HapMapCeuFreq.txt.gz\", compression = \"gzip\", header = 0, usecols = [0,1,2,3,4,5,6])"
   ]
  },
  {
   "cell_type": "code",
   "execution_count": 3,
   "metadata": {
    "kernel": "SoS"
   },
   "outputs": [
    {
     "data": {
      "text/html": [
       "<div>\n",
       "<style scoped>\n",
       "    .dataframe tbody tr th:only-of-type {\n",
       "        vertical-align: middle;\n",
       "    }\n",
       "\n",
       "    .dataframe tbody tr th {\n",
       "        vertical-align: top;\n",
       "    }\n",
       "\n",
       "    .dataframe thead th {\n",
       "        text-align: right;\n",
       "    }\n",
       "</style>\n",
       "<table border=\"1\" class=\"dataframe\">\n",
       "  <thead>\n",
       "    <tr style=\"text-align: right;\">\n",
       "      <th></th>\n",
       "      <th>MarkerName</th>\n",
       "      <th>Allele1</th>\n",
       "      <th>Allele2</th>\n",
       "      <th>Freq.Allele1.HapMapCEU</th>\n",
       "      <th>b</th>\n",
       "      <th>SE</th>\n",
       "      <th>p</th>\n",
       "    </tr>\n",
       "  </thead>\n",
       "  <tbody>\n",
       "    <tr>\n",
       "      <th>0</th>\n",
       "      <td>rs4747841</td>\n",
       "      <td>A</td>\n",
       "      <td>G</td>\n",
       "      <td>0.551</td>\n",
       "      <td>-0.0011</td>\n",
       "      <td>0.0029</td>\n",
       "      <td>0.700</td>\n",
       "    </tr>\n",
       "    <tr>\n",
       "      <th>1</th>\n",
       "      <td>rs4749917</td>\n",
       "      <td>T</td>\n",
       "      <td>C</td>\n",
       "      <td>0.436</td>\n",
       "      <td>0.0011</td>\n",
       "      <td>0.0029</td>\n",
       "      <td>0.700</td>\n",
       "    </tr>\n",
       "    <tr>\n",
       "      <th>2</th>\n",
       "      <td>rs737656</td>\n",
       "      <td>A</td>\n",
       "      <td>G</td>\n",
       "      <td>0.367</td>\n",
       "      <td>-0.0062</td>\n",
       "      <td>0.0030</td>\n",
       "      <td>0.042</td>\n",
       "    </tr>\n",
       "    <tr>\n",
       "      <th>3</th>\n",
       "      <td>rs737657</td>\n",
       "      <td>A</td>\n",
       "      <td>G</td>\n",
       "      <td>0.358</td>\n",
       "      <td>-0.0062</td>\n",
       "      <td>0.0030</td>\n",
       "      <td>0.041</td>\n",
       "    </tr>\n",
       "    <tr>\n",
       "      <th>4</th>\n",
       "      <td>rs7086391</td>\n",
       "      <td>T</td>\n",
       "      <td>C</td>\n",
       "      <td>0.120</td>\n",
       "      <td>-0.0087</td>\n",
       "      <td>0.0038</td>\n",
       "      <td>0.024</td>\n",
       "    </tr>\n",
       "  </tbody>\n",
       "</table>\n",
       "</div>"
      ],
      "text/plain": [
       "  MarkerName Allele1 Allele2  ...         b      SE      p\n",
       "0  rs4747841       A       G  ...   -0.0011  0.0029  0.700\n",
       "1  rs4749917       T       C  ...    0.0011  0.0029  0.700\n",
       "2   rs737656       A       G  ...   -0.0062  0.0030  0.042\n",
       "3   rs737657       A       G  ...   -0.0062  0.0030  0.041\n",
       "4  rs7086391       T       C  ...   -0.0087  0.0038  0.024\n",
       "\n",
       "[5 rows x 7 columns]"
      ]
     },
     "execution_count": 3,
     "metadata": {},
     "output_type": "execute_result"
    }
   ],
   "source": [
    "height1.head()"
   ]
  },
  {
   "cell_type": "code",
   "execution_count": 4,
   "metadata": {
    "kernel": "SoS"
   },
   "outputs": [
    {
     "data": {
      "text/plain": [
       "(2550858, 7)"
      ]
     },
     "execution_count": 4,
     "metadata": {},
     "output_type": "execute_result"
    }
   ],
   "source": [
    "height1.shape"
   ]
  },
  {
   "cell_type": "markdown",
   "metadata": {
    "kernel": "SoS"
   },
   "source": [
    "## snpid (rsID) map"
   ]
  },
  {
   "cell_type": "code",
   "execution_count": 8,
   "metadata": {
    "kernel": "SoS"
   },
   "outputs": [],
   "source": [
    "hg19 = list()\n",
    "for i in range(22):\n",
    "    tmp = pd.read_table(f\"{cwd}/rsID/hg37/1000G.EUR.QC.{i+1}.bim\", header = None, \n",
    "                        usecols = [0,1,3,4,5], names = [\"chr\", \"MarkerName\", \"pos\", \"A1\", \"A2\"])\n",
    "    hg19.append(tmp)\n",
    "hg19 = pd.concat(hg19)"
   ]
  },
  {
   "cell_type": "code",
   "execution_count": 9,
   "metadata": {
    "kernel": "SoS"
   },
   "outputs": [
    {
     "data": {
      "text/html": [
       "<div>\n",
       "<style scoped>\n",
       "    .dataframe tbody tr th:only-of-type {\n",
       "        vertical-align: middle;\n",
       "    }\n",
       "\n",
       "    .dataframe tbody tr th {\n",
       "        vertical-align: top;\n",
       "    }\n",
       "\n",
       "    .dataframe thead th {\n",
       "        text-align: right;\n",
       "    }\n",
       "</style>\n",
       "<table border=\"1\" class=\"dataframe\">\n",
       "  <thead>\n",
       "    <tr style=\"text-align: right;\">\n",
       "      <th></th>\n",
       "      <th>chr</th>\n",
       "      <th>MarkerName</th>\n",
       "      <th>pos</th>\n",
       "      <th>A1</th>\n",
       "      <th>A2</th>\n",
       "    </tr>\n",
       "  </thead>\n",
       "  <tbody>\n",
       "    <tr>\n",
       "      <th>0</th>\n",
       "      <td>1</td>\n",
       "      <td>rs575272151</td>\n",
       "      <td>11008</td>\n",
       "      <td>G</td>\n",
       "      <td>C</td>\n",
       "    </tr>\n",
       "    <tr>\n",
       "      <th>1</th>\n",
       "      <td>1</td>\n",
       "      <td>rs544419019</td>\n",
       "      <td>11012</td>\n",
       "      <td>G</td>\n",
       "      <td>C</td>\n",
       "    </tr>\n",
       "    <tr>\n",
       "      <th>2</th>\n",
       "      <td>1</td>\n",
       "      <td>rs540538026</td>\n",
       "      <td>13110</td>\n",
       "      <td>A</td>\n",
       "      <td>G</td>\n",
       "    </tr>\n",
       "    <tr>\n",
       "      <th>3</th>\n",
       "      <td>1</td>\n",
       "      <td>rs62635286</td>\n",
       "      <td>13116</td>\n",
       "      <td>G</td>\n",
       "      <td>T</td>\n",
       "    </tr>\n",
       "    <tr>\n",
       "      <th>4</th>\n",
       "      <td>1</td>\n",
       "      <td>rs200579949</td>\n",
       "      <td>13118</td>\n",
       "      <td>G</td>\n",
       "      <td>A</td>\n",
       "    </tr>\n",
       "  </tbody>\n",
       "</table>\n",
       "</div>"
      ],
      "text/plain": [
       "   chr   MarkerName    pos A1 A2\n",
       "0    1  rs575272151  11008  G  C\n",
       "1    1  rs544419019  11012  G  C\n",
       "2    1  rs540538026  13110  A  G\n",
       "3    1   rs62635286  13116  G  T\n",
       "4    1  rs200579949  13118  G  A"
      ]
     },
     "execution_count": 9,
     "metadata": {},
     "output_type": "execute_result"
    }
   ],
   "source": [
    "hg19.head()"
   ]
  },
  {
   "cell_type": "code",
   "execution_count": 10,
   "metadata": {
    "kernel": "SoS"
   },
   "outputs": [
    {
     "data": {
      "text/plain": [
       "(9997231, 5)"
      ]
     },
     "execution_count": 10,
     "metadata": {},
     "output_type": "execute_result"
    }
   ],
   "source": [
    "hg19.shape"
   ]
  },
  {
   "cell_type": "code",
   "execution_count": 11,
   "metadata": {
    "kernel": "SoS"
   },
   "outputs": [],
   "source": [
    "height = pd.merge(height1, hg19, how = \"inner\", on = \"MarkerName\")"
   ]
  },
  {
   "cell_type": "code",
   "execution_count": 13,
   "metadata": {
    "kernel": "SoS"
   },
   "outputs": [
    {
     "data": {
      "text/plain": [
       "(2484282, 11)"
      ]
     },
     "execution_count": 13,
     "metadata": {},
     "output_type": "execute_result"
    }
   ],
   "source": [
    "height.shape"
   ]
  },
  {
   "cell_type": "code",
   "execution_count": 14,
   "metadata": {
    "kernel": "SoS"
   },
   "outputs": [],
   "source": [
    "height[\"chr\"] = height[\"chr\"].astype(int)\n",
    "height[\"pos\"] = height[\"pos\"].astype(int)"
   ]
  },
  {
   "cell_type": "code",
   "execution_count": 15,
   "metadata": {
    "kernel": "SoS"
   },
   "outputs": [
    {
     "data": {
      "text/plain": [
       "{1, 2, 3, 4, 5, 6, 7, 8, 9, 10, 11, 12, 13, 14, 15, 16, 17, 18, 19, 20, 21, 22}"
      ]
     },
     "execution_count": 15,
     "metadata": {},
     "output_type": "execute_result"
    }
   ],
   "source": [
    "set(height[\"chr\"])"
   ]
  },
  {
   "cell_type": "code",
   "execution_count": 16,
   "metadata": {
    "kernel": "SoS"
   },
   "outputs": [
    {
     "data": {
      "text/plain": [
       "66576"
      ]
     },
     "execution_count": 16,
     "metadata": {},
     "output_type": "execute_result"
    }
   ],
   "source": [
    "2550858-2484282"
   ]
  },
  {
   "cell_type": "code",
   "execution_count": 17,
   "metadata": {
    "kernel": "SoS"
   },
   "outputs": [],
   "source": [
    "height = height.sort_values(by = [\"chr\", \"pos\"])"
   ]
  },
  {
   "cell_type": "code",
   "execution_count": 23,
   "metadata": {
    "kernel": "SoS"
   },
   "outputs": [],
   "source": [
    "height[\"cons\"] = height.apply(lambda row: \"Y\" if set([row[\"Allele1\"], row[\"Allele2\"]]) == set([row[\"A1\"], row[\"A2\"]]) else \"N\", axis = 1)"
   ]
  },
  {
   "cell_type": "code",
   "execution_count": 26,
   "metadata": {
    "kernel": "SoS"
   },
   "outputs": [
    {
     "data": {
      "text/plain": [
       "Counter({'Y': 2483798, 'N': 484})"
      ]
     },
     "execution_count": 26,
     "metadata": {},
     "output_type": "execute_result"
    }
   ],
   "source": [
    "from collections import Counter\n",
    "Counter(height[\"cons\"])"
   ]
  },
  {
   "cell_type": "code",
   "execution_count": 28,
   "metadata": {
    "kernel": "SoS"
   },
   "outputs": [
    {
     "data": {
      "text/html": [
       "<div>\n",
       "<style scoped>\n",
       "    .dataframe tbody tr th:only-of-type {\n",
       "        vertical-align: middle;\n",
       "    }\n",
       "\n",
       "    .dataframe tbody tr th {\n",
       "        vertical-align: top;\n",
       "    }\n",
       "\n",
       "    .dataframe thead th {\n",
       "        text-align: right;\n",
       "    }\n",
       "</style>\n",
       "<table border=\"1\" class=\"dataframe\">\n",
       "  <thead>\n",
       "    <tr style=\"text-align: right;\">\n",
       "      <th></th>\n",
       "      <th>MarkerName</th>\n",
       "      <th>Allele1</th>\n",
       "      <th>Allele2</th>\n",
       "      <th>Freq.Allele1.HapMapCEU</th>\n",
       "      <th>b</th>\n",
       "      <th>SE</th>\n",
       "      <th>p</th>\n",
       "      <th>chr</th>\n",
       "      <th>pos</th>\n",
       "      <th>A1</th>\n",
       "      <th>A2</th>\n",
       "      <th>cons</th>\n",
       "    </tr>\n",
       "  </thead>\n",
       "  <tbody>\n",
       "    <tr>\n",
       "      <th>992707</th>\n",
       "      <td>rs1886730</td>\n",
       "      <td>A</td>\n",
       "      <td>G</td>\n",
       "      <td>0.558</td>\n",
       "      <td>0.0058</td>\n",
       "      <td>0.003</td>\n",
       "      <td>0.052</td>\n",
       "      <td>1</td>\n",
       "      <td>2488608</td>\n",
       "      <td>C</td>\n",
       "      <td>T</td>\n",
       "      <td>N</td>\n",
       "    </tr>\n",
       "    <tr>\n",
       "      <th>992701</th>\n",
       "      <td>rs2257763</td>\n",
       "      <td>T</td>\n",
       "      <td>G</td>\n",
       "      <td>0.457</td>\n",
       "      <td>-0.0060</td>\n",
       "      <td>0.003</td>\n",
       "      <td>0.043</td>\n",
       "      <td>1</td>\n",
       "      <td>2490898</td>\n",
       "      <td>A</td>\n",
       "      <td>C</td>\n",
       "      <td>N</td>\n",
       "    </tr>\n",
       "    <tr>\n",
       "      <th>992700</th>\n",
       "      <td>rs2281852</td>\n",
       "      <td>T</td>\n",
       "      <td>G</td>\n",
       "      <td>0.415</td>\n",
       "      <td>-0.0058</td>\n",
       "      <td>0.003</td>\n",
       "      <td>0.051</td>\n",
       "      <td>1</td>\n",
       "      <td>2490942</td>\n",
       "      <td>A</td>\n",
       "      <td>C</td>\n",
       "      <td>N</td>\n",
       "    </tr>\n",
       "    <tr>\n",
       "      <th>992699</th>\n",
       "      <td>rs2234161</td>\n",
       "      <td>A</td>\n",
       "      <td>G</td>\n",
       "      <td>0.442</td>\n",
       "      <td>-0.0057</td>\n",
       "      <td>0.003</td>\n",
       "      <td>0.055</td>\n",
       "      <td>1</td>\n",
       "      <td>2491205</td>\n",
       "      <td>T</td>\n",
       "      <td>C</td>\n",
       "      <td>N</td>\n",
       "    </tr>\n",
       "    <tr>\n",
       "      <th>992692</th>\n",
       "      <td>rs11573989</td>\n",
       "      <td>A</td>\n",
       "      <td>G</td>\n",
       "      <td>0.017</td>\n",
       "      <td>-0.0270</td>\n",
       "      <td>0.029</td>\n",
       "      <td>0.360</td>\n",
       "      <td>1</td>\n",
       "      <td>2492783</td>\n",
       "      <td>T</td>\n",
       "      <td>C</td>\n",
       "      <td>N</td>\n",
       "    </tr>\n",
       "  </tbody>\n",
       "</table>\n",
       "</div>"
      ],
      "text/plain": [
       "        MarkerName Allele1 Allele2  ...   A1  A2  cons\n",
       "992707   rs1886730       A       G  ...    C   T     N\n",
       "992701   rs2257763       T       G  ...    A   C     N\n",
       "992700   rs2281852       T       G  ...    A   C     N\n",
       "992699   rs2234161       A       G  ...    T   C     N\n",
       "992692  rs11573989       A       G  ...    T   C     N\n",
       "\n",
       "[5 rows x 12 columns]"
      ]
     },
     "execution_count": 28,
     "metadata": {},
     "output_type": "execute_result"
    }
   ],
   "source": [
    "height[height[\"cons\"] == \"N\"].head()"
   ]
  },
  {
   "cell_type": "code",
   "execution_count": 29,
   "metadata": {
    "kernel": "SoS"
   },
   "outputs": [
    {
     "data": {
      "text/plain": [
       "(484, 12)"
      ]
     },
     "execution_count": 29,
     "metadata": {},
     "output_type": "execute_result"
    }
   ],
   "source": [
    "height[height[\"cons\"] == \"N\"].shape"
   ]
  },
  {
   "cell_type": "code",
   "execution_count": 32,
   "metadata": {
    "kernel": "SoS"
   },
   "outputs": [],
   "source": [
    "height[\"id\"] = [f\"{x}:{y}:{a1}:{a2}\" for x, y, a1, a2 in zip(height[\"chr\"], height[\"pos\"], height[\"Allele1\"], height[\"Allele2\"])]\n",
    "height[\"chrom\"] = [f\"chr{chrom}\" for chrom in height[\"chr\"]]\n",
    "height[\"end\"] = [bp + 1 for bp in height[\"pos\"]]"
   ]
  },
  {
   "cell_type": "code",
   "execution_count": 33,
   "metadata": {
    "kernel": "SoS"
   },
   "outputs": [],
   "source": [
    "height[\"z\"] = height.apply(lambda row: np.around(row[\"b\"] / row[\"SE\"], deci), axis = 1)"
   ]
  },
  {
   "cell_type": "code",
   "execution_count": 35,
   "metadata": {
    "kernel": "SoS"
   },
   "outputs": [
    {
     "data": {
      "text/html": [
       "<div>\n",
       "<style scoped>\n",
       "    .dataframe tbody tr th:only-of-type {\n",
       "        vertical-align: middle;\n",
       "    }\n",
       "\n",
       "    .dataframe tbody tr th {\n",
       "        vertical-align: top;\n",
       "    }\n",
       "\n",
       "    .dataframe thead th {\n",
       "        text-align: right;\n",
       "    }\n",
       "</style>\n",
       "<table border=\"1\" class=\"dataframe\">\n",
       "  <thead>\n",
       "    <tr style=\"text-align: right;\">\n",
       "      <th></th>\n",
       "      <th>MarkerName</th>\n",
       "      <th>Allele1</th>\n",
       "      <th>Allele2</th>\n",
       "      <th>Freq.Allele1.HapMapCEU</th>\n",
       "      <th>b</th>\n",
       "      <th>SE</th>\n",
       "      <th>p</th>\n",
       "      <th>chr</th>\n",
       "      <th>pos</th>\n",
       "      <th>A1</th>\n",
       "      <th>A2</th>\n",
       "      <th>cons</th>\n",
       "      <th>id</th>\n",
       "      <th>chrom</th>\n",
       "      <th>end</th>\n",
       "      <th>z</th>\n",
       "    </tr>\n",
       "  </thead>\n",
       "  <tbody>\n",
       "    <tr>\n",
       "      <th>1033345</th>\n",
       "      <td>rs12565286</td>\n",
       "      <td>C</td>\n",
       "      <td>G</td>\n",
       "      <td>0.068</td>\n",
       "      <td>-0.0071</td>\n",
       "      <td>0.0140</td>\n",
       "      <td>0.61</td>\n",
       "      <td>1</td>\n",
       "      <td>721290</td>\n",
       "      <td>C</td>\n",
       "      <td>G</td>\n",
       "      <td>Y</td>\n",
       "      <td>1:721290:C:G</td>\n",
       "      <td>chr1</td>\n",
       "      <td>721291</td>\n",
       "      <td>-0.5071</td>\n",
       "    </tr>\n",
       "    <tr>\n",
       "      <th>1033597</th>\n",
       "      <td>rs11804171</td>\n",
       "      <td>A</td>\n",
       "      <td>T</td>\n",
       "      <td>0.037</td>\n",
       "      <td>-0.0089</td>\n",
       "      <td>0.0140</td>\n",
       "      <td>0.52</td>\n",
       "      <td>1</td>\n",
       "      <td>723819</td>\n",
       "      <td>A</td>\n",
       "      <td>T</td>\n",
       "      <td>Y</td>\n",
       "      <td>1:723819:A:T</td>\n",
       "      <td>chr1</td>\n",
       "      <td>723820</td>\n",
       "      <td>-0.6357</td>\n",
       "    </tr>\n",
       "    <tr>\n",
       "      <th>1033601</th>\n",
       "      <td>rs2977670</td>\n",
       "      <td>C</td>\n",
       "      <td>G</td>\n",
       "      <td>0.929</td>\n",
       "      <td>0.0052</td>\n",
       "      <td>0.0150</td>\n",
       "      <td>0.73</td>\n",
       "      <td>1</td>\n",
       "      <td>723891</td>\n",
       "      <td>G</td>\n",
       "      <td>C</td>\n",
       "      <td>Y</td>\n",
       "      <td>1:723891:C:G</td>\n",
       "      <td>chr1</td>\n",
       "      <td>723892</td>\n",
       "      <td>0.3467</td>\n",
       "    </tr>\n",
       "    <tr>\n",
       "      <th>1036243</th>\n",
       "      <td>rs3094315</td>\n",
       "      <td>A</td>\n",
       "      <td>G</td>\n",
       "      <td>0.845</td>\n",
       "      <td>0.0041</td>\n",
       "      <td>0.0053</td>\n",
       "      <td>0.44</td>\n",
       "      <td>1</td>\n",
       "      <td>752566</td>\n",
       "      <td>G</td>\n",
       "      <td>A</td>\n",
       "      <td>Y</td>\n",
       "      <td>1:752566:A:G</td>\n",
       "      <td>chr1</td>\n",
       "      <td>752567</td>\n",
       "      <td>0.7736</td>\n",
       "    </tr>\n",
       "    <tr>\n",
       "      <th>1036308</th>\n",
       "      <td>rs2073813</td>\n",
       "      <td>A</td>\n",
       "      <td>G</td>\n",
       "      <td>0.125</td>\n",
       "      <td>-0.0034</td>\n",
       "      <td>0.0083</td>\n",
       "      <td>0.68</td>\n",
       "      <td>1</td>\n",
       "      <td>753541</td>\n",
       "      <td>A</td>\n",
       "      <td>G</td>\n",
       "      <td>Y</td>\n",
       "      <td>1:753541:A:G</td>\n",
       "      <td>chr1</td>\n",
       "      <td>753542</td>\n",
       "      <td>-0.4096</td>\n",
       "    </tr>\n",
       "  </tbody>\n",
       "</table>\n",
       "</div>"
      ],
      "text/plain": [
       "         MarkerName Allele1 Allele2   ...    chrom     end       z\n",
       "1033345  rs12565286       C       G   ...     chr1  721291 -0.5071\n",
       "1033597  rs11804171       A       T   ...     chr1  723820 -0.6357\n",
       "1033601   rs2977670       C       G   ...     chr1  723892  0.3467\n",
       "1036243   rs3094315       A       G   ...     chr1  752567  0.7736\n",
       "1036308   rs2073813       A       G   ...     chr1  753542 -0.4096\n",
       "\n",
       "[5 rows x 16 columns]"
      ]
     },
     "execution_count": 35,
     "metadata": {},
     "output_type": "execute_result"
    }
   ],
   "source": [
    "height.head()"
   ]
  },
  {
   "cell_type": "code",
   "execution_count": 37,
   "metadata": {
    "kernel": "SoS"
   },
   "outputs": [],
   "source": [
    "height[[\"chrom\", \"pos\", \"end\", \"id\", \"chr\", \"z\", \"b\", \"SE\"]].to_csv(f\"{cwd}/height_zscore/height.zscore.info.gz\", compression = \"gzip\", sep = \"\\t\", header = False, index = False)"
   ]
  },
  {
   "cell_type": "code",
   "execution_count": 39,
   "metadata": {
    "kernel": "SoS"
   },
   "outputs": [],
   "source": [
    "height[\"snpid\"] = [f\"{chrom}.{bp}\" for chrom, bp in zip(height[\"chrom\"], height[\"pos\"])]\n",
    "height[[\"snpid\", \"chr\", \"pos\"]].to_csv(f\"{cwd}/height_zscore/smap.gz\", compression = \"gzip\", sep = \"\\t\", header = False, index = False)"
   ]
  },
  {
   "cell_type": "markdown",
   "metadata": {
    "kernel": "SoS"
   },
   "source": [
    "## Obtain LD chunk\n",
    "Calculate ld chunk using `bedtools`\n",
    "```\n",
    "cd /home/min/Documents/GWAS_ATAC/height_zscore/\n",
    "bedtools intersect -wa -wb -a height.zscore.info.gz -b /home/min/Documents/GWAS_ATAC/jeanm/torus/variants/ld_chunk.bed | uniq | awk '{print $4\"\\t\"$12\"\\t\"$6}' | gzip > height.zscore.gz\n",
    "```"
   ]
  },
  {
   "cell_type": "markdown",
   "metadata": {
    "kernel": "SoS"
   },
   "source": [
    "## Enrichment analysis\n",
    "```\n",
    "sos run analysis/20180615_Enrichment_Workflows.ipynb range2var_annotation --z-score ~/Documents/GWAS_ATAC/height_zscore/height.zscore.gz --single-annot data/atac_seq.txt\n",
    "sos run analysis/20180615_Enrichment_Workflows.ipynb enrichment --z-score ~/Documents/GWAS_ATAC/height_zscore/height.zscore.gz --single-annot data/atac_seq.txt\n",
    "```\n",
    "```\n",
    "sos run analysis/20180615_Enrichment_Workflows.ipynb enrichment --z-score ~/Documents/GWAS_ATAC/height_zscore/height.zscore.gz --single-annot data/atac_seq_asca.txt --multi-annot data/multi_annotations2.txt -v3\n",
    "```\n",
    "```\n",
    "sos run analysis/20180615_Enrichment_Workflows.ipynb range2var_annotation --z-score ~/Documents/GWAS_ATAC/height_zscore/height.zscore.gz --single-annot data/general_annotations.txt --multi-annot data/general_annotations.txt -v3\n",
    "sos run analysis/20180615_Enrichment_Workflows.ipynb enrichment --z-score ~/Documents/GWAS_ATAC/height_zscore/height.zscore.gz --single-annot data/general_annotations.txt --multi-annot data/general_annotations.txt -v3\n",
    "```"
   ]
  },
  {
   "cell_type": "code",
   "execution_count": null,
   "metadata": {
    "kernel": "SoS"
   },
   "outputs": [],
   "source": []
  }
 ],
 "metadata": {
  "kernelspec": {
   "display_name": "SoS",
   "language": "sos",
   "name": "sos"
  },
  "language_info": {
   "codemirror_mode": "sos",
   "file_extension": ".sos",
   "mimetype": "text/x-sos",
   "name": "sos",
   "nbconvert_exporter": "sos_notebook.converter.SoS_Exporter",
   "pygments_lexer": "sos"
  },
  "sos": {
   "kernels": [
    [
     "SoS",
     "sos",
     "",
     ""
    ]
   ],
   "version": "0.21.7"
  }
 },
 "nbformat": 4,
 "nbformat_minor": 4
}
